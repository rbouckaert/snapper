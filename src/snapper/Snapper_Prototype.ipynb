{
 "cells": [
  {
   "cell_type": "code",
   "execution_count": null,
   "metadata": {},
   "outputs": [
    {
     "name": "stdout",
     "output_type": "stream",
     "text": [
      "pytwalk: Running the twalk with 10000 iterations. Fri, 01 Jun 2018, 13:10.\n"
     ]
    },
    {
     "name": "stderr",
     "output_type": "stream",
     "text": [
      "C:\\Users\\Gorilla Rig\\Anaconda3\\lib\\site-packages\\scipy\\integrate\\quadpack.py:364: IntegrationWarning: The integral is probably divergent, or slowly convergent.\n",
      "  warnings.warn(msg, IntegrationWarning)\n"
     ]
    },
    {
     "name": "stdout",
     "output_type": "stream",
     "text": [
      "       Finish by Sat, 02 Jun 2018, 03:20.\n"
     ]
    },
    {
     "name": "stderr",
     "output_type": "stream",
     "text": [
      "C:\\Users\\Gorilla Rig\\Dropbox\\MarnusDiffusions\\Code\\pytwalk.py:334: RuntimeWarning: overflow encountered in exp\n",
      "  A = exp((u - u_prop) +  (self.nphi-2)*log(beta))\n",
      "C:\\Users\\Gorilla Rig\\Anaconda3\\lib\\site-packages\\scipy\\integrate\\quadpack.py:364: IntegrationWarning: The algorithm does not converge.  Roundoff error is detected\n",
      "  in the extrapolation table.  It is assumed that the requested tolerance\n",
      "  cannot be achieved, and that the returned result (if full_output = 1) is \n",
      "  the best which can be obtained.\n",
      "  warnings.warn(msg, IntegrationWarning)\n",
      "C:\\Users\\Gorilla Rig\\Anaconda3\\lib\\site-packages\\scipy\\integrate\\quadpack.py:364: IntegrationWarning: The maximum number of subdivisions (50) has been achieved.\n",
      "  If increasing the limit yields no improvement it is advised to analyze \n",
      "  the integrand in order to determine the difficulties.  If the position of a \n",
      "  local difficulty can be determined (singularity, discontinuity) one will \n",
      "  probably gain from splitting up the interval and calling the integrator \n",
      "  on the subranges.  Perhaps a special-purpose integrator should be used.\n",
      "  warnings.warn(msg, IntegrationWarning)\n"
     ]
    },
    {
     "name": "stdout",
     "output_type": "stream",
     "text": [
      "pytwalk:          8 iterations so far. Finish by Sat, 02 Jun 2018, 10:00.\n"
     ]
    },
    {
     "name": "stderr",
     "output_type": "stream",
     "text": [
      "C:\\Users\\Gorilla Rig\\Anaconda3\\lib\\site-packages\\scipy\\integrate\\quadpack.py:364: IntegrationWarning: Extremely bad integrand behavior occurs at some points of the\n",
      "  integration interval.\n",
      "  warnings.warn(msg, IntegrationWarning)\n"
     ]
    },
    {
     "name": "stdout",
     "output_type": "stream",
     "text": [
      "pytwalk:         32 iterations so far. Finish by Sat, 02 Jun 2018, 05:43.\n"
     ]
    },
    {
     "name": "stderr",
     "output_type": "stream",
     "text": [
      "C:\\Users\\Gorilla Rig\\Dropbox\\MarnusDiffusions\\Code\\pytwalk.py:278: RuntimeWarning: overflow encountered in exp\n",
      "  A = exp(up - up_prop)\n"
     ]
    },
    {
     "name": "stdout",
     "output_type": "stream",
     "text": [
      "pytwalk:         64 iterations so far. Finish by Sat, 02 Jun 2018, 04:53.\n",
      "pytwalk:        128 iterations so far. Finish by Sat, 02 Jun 2018, 03:25.\n",
      "pytwalk:        256 iterations so far. Finish by Sat, 02 Jun 2018, 03:07.\n",
      "pytwalk:       1024 iterations so far. Finish by Fri, 01 Jun 2018, 21:35.\n"
     ]
    }
   ],
   "source": [
    "from bs4 import BeautifulSoup\n",
    "import sys\n",
    "\n",
    "def logL(x):\n",
    "    \n",
    "    #print(seq1[10],seq2[10])\n",
    "    LogL = 0\n",
    "    #len(seq1) -1\n",
    "    for i in range(1,100): \n",
    "        \n",
    "        #Tree structure, this should come from a .nex file\n",
    "        N = 20\n",
    "        #Sample size per loci\n",
    "        n = 100\n",
    "        T = Tree(np.array([[1,2],[3,4],[5,6]]),np.array([5,5,6,7,6,7]),x)\n",
    "        #T = Tree(np.array([[1,2]]),np.array([3,3]),x)\n",
    "        #Given frequency\n",
    "        C = np.array([int(seq1[i]),int(seq2[i]),int(seq3[i]),int(seq4[i])])\n",
    "        #Get Chebychev Coefficients of initial condition\n",
    "        CC = np.zeros([len(C),N+1])\n",
    "        for i in range(0,len(C)):\n",
    "            CC[i] = Chebychev_transform2(n_sample,C[i],N) \n",
    "        #selection and mutation (multiply u,v by 2)    \n",
    "        a = np.array([[0.006,-0.012,0,0],[0.005,-0.01,0,0]])\n",
    "        #genetic drift\n",
    "        b = np.array([0,0.5,-0.5,0])\n",
    "        LogL += Tree_integrator(T,C,N,n,CC,a,b)\n",
    "    return LogL\n",
    "\n",
    "\n",
    "def BranchSupp(x):\n",
    "\treturn all(0 < x )&all(x < 20)\n",
    "###          we define the objective function with the U function\n",
    "###          which is -log of the density function.\n",
    "###          The support is defined in a separate function.\n",
    "###   The dimension of the parameter space is n\n",
    "\n",
    "'''Get the SimSnap simulations into format '''\n",
    "handler = open(\"testSimSnap_tree_1.xml\",\"r\" )\n",
    "contents = handler.read()\n",
    "soup = BeautifulSoup(contents,'xml')\n",
    "sequence = soup.find_all('sequence')\n",
    "seq1 = sequence[0].text\n",
    "seq2 = sequence[1].text\n",
    "seq3 = sequence[2].text\n",
    "seq4 = sequence[3].text\n",
    "seq1 = seq1.split(\",\")\n",
    "seq2 = seq2.split(\",\")\n",
    "seq3 = seq3.split(\",\")\n",
    "seq4 = seq4.split(\",\")\n",
    "\n",
    "Tree_Inference = pytwalk( n=6, U=logL, Supp=BranchSupp)\n",
    "\n",
    "#### This would run the twalk\n",
    "\n",
    "Tree_Inference.Run( T=10000, x0=1*np.ones(6), xp0=2*np.ones(6))\n",
    "\n",
    "Tree_Inference.Save(\"Tree_Inference_twalk1.dat\")\n",
    "\n",
    "#Gets output into Tracer format\n",
    "x = Tree_Inference.Output\n",
    "n = np.shape(x)\n",
    "z = np.zeros([int(n[0])+1, int(n[1])+1])\n",
    "z[1:,1:] = x\n",
    "y = np.arange(0,n[0] +1)\n",
    "z[:,0] = y\n",
    "header = np.arange(1,n[1]+1)\n",
    "header_str = str(np.arange(1,n[1]+1))\n",
    "header_str = header_str[1:-1]\n",
    "header_str = header_str.replace(\" \", \"\\t\")\n",
    "np.savetxt( 'test.log', z, delimiter='\\t', header='state' + header_str )\n",
    "\n",
    "#Tree_Inference.Ana\n",
    "#Tree_Inference.Hist( par=0 )\n",
    "\n",
    "#plt.show()\n",
    "#Tree_Inference.Hist( par=1 )\n",
    "#plt.show()\n",
    "#Tree_Inference.Hist( par=2 )\n",
    "#plt.show()\n",
    "#Tree_Inference.Hist( par=3 )\n",
    "#plt.show()\n",
    "#Tree_Inference.Hist( par=4 )\n",
    "#plt.show()\n",
    "#Tree_Inference.Hist( par=5 )\n",
    "#plt.show()\n"
   ]
  },
  {
   "cell_type": "code",
   "execution_count": 14,
   "metadata": {
    "scrolled": true
   },
   "outputs": [
    {
     "name": "stdout",
     "output_type": "stream",
     "text": [
      "997\n",
      "49064.0 48646.0\n"
     ]
    }
   ],
   "source": [
    "from bs4 import BeautifulSoup\n",
    "import sys\n",
    "import matplotlib.pyplot as plt\n",
    "import numpy as np\n",
    "\n",
    "handler = open(\"testSimSnap_tree_1.xml\",\"r\" )\n",
    "contents = handler.read()\n",
    "soup = BeautifulSoup(contents,'xml')\n",
    "sequence = soup.find_all('sequence')\n",
    "\n",
    "seq1 = sequence[0].text\n",
    "seq2 = sequence[1].text\n",
    "\n",
    "\n",
    "seq1 = seq1.split(\",\")\n",
    "seq2 = seq2.split(\",\")\n",
    "\n",
    "\n",
    "seq1 =np.asarray(seq1[1:-1]).astype(np.float)\n",
    "seq2 =np.asarray(seq2[1:-1]).astype(np.float)\n",
    "print(len(seq1[1:-1]))\n",
    "print(np.sum(seq1[1:-1]), np.sum(seq2[1:-1]))"
   ]
  },
  {
   "cell_type": "code",
   "execution_count": 81,
   "metadata": {
    "scrolled": true
   },
   "outputs": [
    {
     "name": "stdout",
     "output_type": "stream",
     "text": [
      "Mean for parameter 0= 0.004414\n"
     ]
    },
    {
     "data": {
      "image/png": "[encoded data removed]",
      "text/plain": [
       "<matplotlib.figure.Figure at 0x1f66a41c9b0>"
      ]
     },
     "metadata": {},
     "output_type": "display_data"
    },
    {
     "name": "stdout",
     "output_type": "stream",
     "text": [
      "Mean for parameter 1= 0.930731\n"
     ]
    },
    {
     "data": {
      "image/png": "[encoded data removed]",
      "text/plain": [
       "<matplotlib.figure.Figure at 0x1f669a053c8>"
      ]
     },
     "metadata": {},
     "output_type": "display_data"
    },
    {
     "name": "stdout",
     "output_type": "stream",
     "text": [
      "Mean for parameter 2= 1134.198088\n"
     ]
    },
    {
     "data": {
      "image/png": "[encoded data removed]",
      "text/plain": [
       "<matplotlib.figure.Figure at 0x1f669b32dd8>"
      ]
     },
     "metadata": {},
     "output_type": "display_data"
    }
   ],
   "source": [
    "Tree_Inference.Ana\n",
    "Tree_Inference.Hist( par=0 )\n",
    "\n",
    "plt.show()\n",
    "Tree_Inference.Hist( par=1 )\n",
    "plt.show()\n",
    "Tree_Inference.Hist( par=2 )\n",
    "plt.show()\n"
   ]
  },
  {
   "cell_type": "code",
   "execution_count": 1,
   "metadata": {},
   "outputs": [
    {
     "name": "stdout",
     "output_type": "stream",
     "text": [
      "[[ 0.  2.  0.  6.  0. 10.  0. 14.  0. 18.  0. 22.  0. 26.  0. 30.  0. 34.\n",
      "   0. 38.]\n",
      " [ 0.  0.  8.  0. 16.  0. 24.  0. 32.  0. 40.  0. 48.  0. 56.  0. 64.  0.\n",
      "  72.  0.]\n",
      " [ 0.  0.  0. 12.  0. 20.  0. 28.  0. 36.  0. 44.  0. 52.  0. 60.  0. 68.\n",
      "   0. 76.]\n",
      " [ 0.  0.  0.  0. 16.  0. 24.  0. 32.  0. 40.  0. 48.  0. 56.  0. 64.  0.\n",
      "  72.  0.]\n",
      " [ 0.  0.  0.  0.  0. 20.  0. 28.  0. 36.  0. 44.  0. 52.  0. 60.  0. 68.\n",
      "   0. 76.]\n",
      " [ 0.  0.  0.  0.  0.  0. 24.  0. 32.  0. 40.  0. 48.  0. 56.  0. 64.  0.\n",
      "  72.  0.]\n",
      " [ 0.  0.  0.  0.  0.  0.  0. 28.  0. 36.  0. 44.  0. 52.  0. 60.  0. 68.\n",
      "   0. 76.]\n",
      " [ 0.  0.  0.  0.  0.  0.  0.  0. 32.  0. 40.  0. 48.  0. 56.  0. 64.  0.\n",
      "  72.  0.]\n",
      " [ 0.  0.  0.  0.  0.  0.  0.  0.  0. 36.  0. 44.  0. 52.  0. 60.  0. 68.\n",
      "   0. 76.]\n",
      " [ 0.  0.  0.  0.  0.  0.  0.  0.  0.  0. 40.  0. 48.  0. 56.  0. 64.  0.\n",
      "  72.  0.]\n",
      " [ 0.  0.  0.  0.  0.  0.  0.  0.  0.  0.  0. 44.  0. 52.  0. 60.  0. 68.\n",
      "   0. 76.]\n",
      " [ 0.  0.  0.  0.  0.  0.  0.  0.  0.  0.  0.  0. 48.  0. 56.  0. 64.  0.\n",
      "  72.  0.]\n",
      " [ 0.  0.  0.  0.  0.  0.  0.  0.  0.  0.  0.  0.  0. 52.  0. 60.  0. 68.\n",
      "   0. 76.]\n",
      " [ 0.  0.  0.  0.  0.  0.  0.  0.  0.  0.  0.  0.  0.  0. 56.  0. 64.  0.\n",
      "  72.  0.]\n",
      " [ 0.  0.  0.  0.  0.  0.  0.  0.  0.  0.  0.  0.  0.  0.  0. 60.  0. 68.\n",
      "   0. 76.]\n",
      " [ 0.  0.  0.  0.  0.  0.  0.  0.  0.  0.  0.  0.  0.  0.  0.  0. 64.  0.\n",
      "  72.  0.]\n",
      " [ 0.  0.  0.  0.  0.  0.  0.  0.  0.  0.  0.  0.  0.  0.  0.  0.  0. 68.\n",
      "   0. 76.]\n",
      " [ 0.  0.  0.  0.  0.  0.  0.  0.  0.  0.  0.  0.  0.  0.  0.  0.  0.  0.\n",
      "  72.  0.]\n",
      " [ 0.  0.  0.  0.  0.  0.  0.  0.  0.  0.  0.  0.  0.  0.  0.  0.  0.  0.\n",
      "   0. 76.]\n",
      " [ 0.  0.  0.  0.  0.  0.  0.  0.  0.  0.  0.  0.  0.  0.  0.  0.  0.  0.\n",
      "   0.  0.]]\n"
     ]
    },
    {
     "name": "stderr",
     "output_type": "stream",
     "text": [
      "C:\\Users\\Gorilla Rig\\Anaconda3\\lib\\site-packages\\scipy\\sparse\\linalg\\dsolve\\linsolve.py:295: SparseEfficiencyWarning: splu requires CSC matrix format\n",
      "  warn('splu requires CSC matrix format', SparseEfficiencyWarning)\n",
      "C:\\Users\\Gorilla Rig\\Anaconda3\\lib\\site-packages\\scipy\\sparse\\linalg\\dsolve\\linsolve.py:202: SparseEfficiencyWarning: spsolve is more efficient when sparse b is in the CSC matrix format\n",
      "  'is in the CSC matrix format', SparseEfficiencyWarning)\n",
      "C:\\Users\\Gorilla Rig\\Anaconda3\\lib\\site-packages\\scipy\\sparse\\compressed.py:742: SparseEfficiencyWarning: Changing the sparsity structure of a csr_matrix is expensive. lil_matrix is more efficient.\n",
      "  SparseEfficiencyWarning)\n"
     ]
    },
    {
     "name": "stdout",
     "output_type": "stream",
     "text": [
      "3.69 µs ± 117 ns per loop (mean ± std. dev. of 7 runs, 100000 loops each)\n"
     ]
    },
    {
     "name": "stderr",
     "output_type": "stream",
     "text": [
      "C:\\Users\\Gorilla Rig\\Anaconda3\\lib\\site-packages\\scipy\\sparse\\linalg\\dsolve\\linsolve.py:295: SparseEfficiencyWarning: splu requires CSC matrix format\n",
      "  warn('splu requires CSC matrix format', SparseEfficiencyWarning)\n",
      "C:\\Users\\Gorilla Rig\\Anaconda3\\lib\\site-packages\\scipy\\sparse\\linalg\\dsolve\\linsolve.py:202: SparseEfficiencyWarning: spsolve is more efficient when sparse b is in the CSC matrix format\n",
      "  'is in the CSC matrix format', SparseEfficiencyWarning)\n",
      "C:\\Users\\Gorilla Rig\\Anaconda3\\lib\\site-packages\\scipy\\sparse\\compressed.py:742: SparseEfficiencyWarning: Changing the sparsity structure of a csr_matrix is expensive. lil_matrix is more efficient.\n",
      "  SparseEfficiencyWarning)\n"
     ]
    },
    {
     "name": "stdout",
     "output_type": "stream",
     "text": [
      "3.85 µs ± 333 ns per loop (mean ± std. dev. of 7 runs, 100000 loops each)\n"
     ]
    },
    {
     "name": "stderr",
     "output_type": "stream",
     "text": [
      "C:\\Users\\Gorilla Rig\\Anaconda3\\lib\\site-packages\\scipy\\sparse\\linalg\\dsolve\\linsolve.py:295: SparseEfficiencyWarning: splu requires CSC matrix format\n",
      "  warn('splu requires CSC matrix format', SparseEfficiencyWarning)\n",
      "C:\\Users\\Gorilla Rig\\Anaconda3\\lib\\site-packages\\scipy\\sparse\\linalg\\dsolve\\linsolve.py:202: SparseEfficiencyWarning: spsolve is more efficient when sparse b is in the CSC matrix format\n",
      "  'is in the CSC matrix format', SparseEfficiencyWarning)\n",
      "C:\\Users\\Gorilla Rig\\Anaconda3\\lib\\site-packages\\scipy\\sparse\\compressed.py:742: SparseEfficiencyWarning: Changing the sparsity structure of a csr_matrix is expensive. lil_matrix is more efficient.\n",
      "  SparseEfficiencyWarning)\n"
     ]
    },
    {
     "name": "stdout",
     "output_type": "stream",
     "text": [
      "3.63 µs ± 256 ns per loop (mean ± std. dev. of 7 runs, 100000 loops each)\n"
     ]
    },
    {
     "name": "stderr",
     "output_type": "stream",
     "text": [
      "C:\\Users\\Gorilla Rig\\Anaconda3\\lib\\site-packages\\scipy\\sparse\\linalg\\dsolve\\linsolve.py:295: SparseEfficiencyWarning: splu requires CSC matrix format\n",
      "  warn('splu requires CSC matrix format', SparseEfficiencyWarning)\n",
      "C:\\Users\\Gorilla Rig\\Anaconda3\\lib\\site-packages\\scipy\\sparse\\linalg\\dsolve\\linsolve.py:202: SparseEfficiencyWarning: spsolve is more efficient when sparse b is in the CSC matrix format\n",
      "  'is in the CSC matrix format', SparseEfficiencyWarning)\n",
      "C:\\Users\\Gorilla Rig\\Anaconda3\\lib\\site-packages\\scipy\\sparse\\compressed.py:742: SparseEfficiencyWarning: Changing the sparsity structure of a csr_matrix is expensive. lil_matrix is more efficient.\n",
      "  SparseEfficiencyWarning)\n"
     ]
    },
    {
     "name": "stdout",
     "output_type": "stream",
     "text": [
      "3.91 µs ± 235 ns per loop (mean ± std. dev. of 7 runs, 100000 loops each)\n",
      "[[ 0.  2.  0.  6.  0. 10.  0. 14.  0. 18.  0. 22.  0. 26.  0. 30.  0. 34.\n",
      "   0. 38.]\n",
      " [ 0.  0.  8.  0. 16.  0. 24.  0. 32.  0. 40.  0. 48.  0. 56.  0. 64.  0.\n",
      "  72.  0.]\n",
      " [ 0.  0.  0. 12.  0. 20.  0. 28.  0. 36.  0. 44.  0. 52.  0. 60.  0. 68.\n",
      "   0. 76.]\n",
      " [ 0.  0.  0.  0. 16.  0. 24.  0. 32.  0. 40.  0. 48.  0. 56.  0. 64.  0.\n",
      "  72.  0.]\n",
      " [ 0.  0.  0.  0.  0. 20.  0. 28.  0. 36.  0. 44.  0. 52.  0. 60.  0. 68.\n",
      "   0. 76.]\n",
      " [ 0.  0.  0.  0.  0.  0. 24.  0. 32.  0. 40.  0. 48.  0. 56.  0. 64.  0.\n",
      "  72.  0.]\n",
      " [ 0.  0.  0.  0.  0.  0.  0. 28.  0. 36.  0. 44.  0. 52.  0. 60.  0. 68.\n",
      "   0. 76.]\n",
      " [ 0.  0.  0.  0.  0.  0.  0.  0. 32.  0. 40.  0. 48.  0. 56.  0. 64.  0.\n",
      "  72.  0.]\n",
      " [ 0.  0.  0.  0.  0.  0.  0.  0.  0. 36.  0. 44.  0. 52.  0. 60.  0. 68.\n",
      "   0. 76.]\n",
      " [ 0.  0.  0.  0.  0.  0.  0.  0.  0.  0. 40.  0. 48.  0. 56.  0. 64.  0.\n",
      "  72.  0.]\n",
      " [ 0.  0.  0.  0.  0.  0.  0.  0.  0.  0.  0. 44.  0. 52.  0. 60.  0. 68.\n",
      "   0. 76.]\n",
      " [ 0.  0.  0.  0.  0.  0.  0.  0.  0.  0.  0.  0. 48.  0. 56.  0. 64.  0.\n",
      "  72.  0.]\n",
      " [ 0.  0.  0.  0.  0.  0.  0.  0.  0.  0.  0.  0.  0. 52.  0. 60.  0. 68.\n",
      "   0. 76.]\n",
      " [ 0.  0.  0.  0.  0.  0.  0.  0.  0.  0.  0.  0.  0.  0. 56.  0. 64.  0.\n",
      "  72.  0.]\n",
      " [ 0.  0.  0.  0.  0.  0.  0.  0.  0.  0.  0.  0.  0.  0.  0. 60.  0. 68.\n",
      "   0. 76.]\n",
      " [ 0.  0.  0.  0.  0.  0.  0.  0.  0.  0.  0.  0.  0.  0.  0.  0. 64.  0.\n",
      "  72.  0.]\n",
      " [ 0.  0.  0.  0.  0.  0.  0.  0.  0.  0.  0.  0.  0.  0.  0.  0.  0. 68.\n",
      "   0. 76.]\n",
      " [ 0.  0.  0.  0.  0.  0.  0.  0.  0.  0.  0.  0.  0.  0.  0.  0.  0.  0.\n",
      "  72.  0.]\n",
      " [ 0.  0.  0.  0.  0.  0.  0.  0.  0.  0.  0.  0.  0.  0.  0.  0.  0.  0.\n",
      "   0. 76.]\n",
      " [ 0.  0.  0.  0.  0.  0.  0.  0.  0.  0.  0.  0.  0.  0.  0.  0.  0.  0.\n",
      "   0.  0.]]\n"
     ]
    },
    {
     "name": "stderr",
     "output_type": "stream",
     "text": [
      "C:\\Users\\Gorilla Rig\\Anaconda3\\lib\\site-packages\\scipy\\sparse\\linalg\\dsolve\\linsolve.py:295: SparseEfficiencyWarning: splu requires CSC matrix format\n",
      "  warn('splu requires CSC matrix format', SparseEfficiencyWarning)\n",
      "C:\\Users\\Gorilla Rig\\Anaconda3\\lib\\site-packages\\scipy\\sparse\\linalg\\dsolve\\linsolve.py:202: SparseEfficiencyWarning: spsolve is more efficient when sparse b is in the CSC matrix format\n",
      "  'is in the CSC matrix format', SparseEfficiencyWarning)\n",
      "C:\\Users\\Gorilla Rig\\Anaconda3\\lib\\site-packages\\scipy\\sparse\\compressed.py:742: SparseEfficiencyWarning: Changing the sparsity structure of a csr_matrix is expensive. lil_matrix is more efficient.\n",
      "  SparseEfficiencyWarning)\n"
     ]
    },
    {
     "name": "stdout",
     "output_type": "stream",
     "text": [
      "4.05 µs ± 342 ns per loop (mean ± std. dev. of 7 runs, 100000 loops each)\n"
     ]
    },
    {
     "name": "stderr",
     "output_type": "stream",
     "text": [
      "C:\\Users\\Gorilla Rig\\Anaconda3\\lib\\site-packages\\scipy\\sparse\\linalg\\dsolve\\linsolve.py:295: SparseEfficiencyWarning: splu requires CSC matrix format\n",
      "  warn('splu requires CSC matrix format', SparseEfficiencyWarning)\n",
      "C:\\Users\\Gorilla Rig\\Anaconda3\\lib\\site-packages\\scipy\\sparse\\linalg\\dsolve\\linsolve.py:202: SparseEfficiencyWarning: spsolve is more efficient when sparse b is in the CSC matrix format\n",
      "  'is in the CSC matrix format', SparseEfficiencyWarning)\n",
      "C:\\Users\\Gorilla Rig\\Anaconda3\\lib\\site-packages\\scipy\\sparse\\compressed.py:742: SparseEfficiencyWarning: Changing the sparsity structure of a csr_matrix is expensive. lil_matrix is more efficient.\n",
      "  SparseEfficiencyWarning)\n"
     ]
    },
    {
     "name": "stdout",
     "output_type": "stream",
     "text": [
      "3.74 µs ± 67.3 ns per loop (mean ± std. dev. of 7 runs, 100000 loops each)\n"
     ]
    },
    {
     "name": "stderr",
     "output_type": "stream",
     "text": [
      "C:\\Users\\Gorilla Rig\\Anaconda3\\lib\\site-packages\\scipy\\sparse\\linalg\\dsolve\\linsolve.py:295: SparseEfficiencyWarning: splu requires CSC matrix format\n",
      "  warn('splu requires CSC matrix format', SparseEfficiencyWarning)\n",
      "C:\\Users\\Gorilla Rig\\Anaconda3\\lib\\site-packages\\scipy\\sparse\\linalg\\dsolve\\linsolve.py:202: SparseEfficiencyWarning: spsolve is more efficient when sparse b is in the CSC matrix format\n",
      "  'is in the CSC matrix format', SparseEfficiencyWarning)\n",
      "C:\\Users\\Gorilla Rig\\Anaconda3\\lib\\site-packages\\scipy\\sparse\\compressed.py:742: SparseEfficiencyWarning: Changing the sparsity structure of a csr_matrix is expensive. lil_matrix is more efficient.\n",
      "  SparseEfficiencyWarning)\n"
     ]
    },
    {
     "name": "stdout",
     "output_type": "stream",
     "text": [
      "3.61 µs ± 91.9 ns per loop (mean ± std. dev. of 7 runs, 100000 loops each)\n"
     ]
    },
    {
     "name": "stderr",
     "output_type": "stream",
     "text": [
      "C:\\Users\\Gorilla Rig\\Anaconda3\\lib\\site-packages\\scipy\\sparse\\linalg\\dsolve\\linsolve.py:295: SparseEfficiencyWarning: splu requires CSC matrix format\n",
      "  warn('splu requires CSC matrix format', SparseEfficiencyWarning)\n",
      "C:\\Users\\Gorilla Rig\\Anaconda3\\lib\\site-packages\\scipy\\sparse\\linalg\\dsolve\\linsolve.py:202: SparseEfficiencyWarning: spsolve is more efficient when sparse b is in the CSC matrix format\n",
      "  'is in the CSC matrix format', SparseEfficiencyWarning)\n",
      "C:\\Users\\Gorilla Rig\\Anaconda3\\lib\\site-packages\\scipy\\sparse\\compressed.py:742: SparseEfficiencyWarning: Changing the sparsity structure of a csr_matrix is expensive. lil_matrix is more efficient.\n",
      "  SparseEfficiencyWarning)\n"
     ]
    },
    {
     "name": "stdout",
     "output_type": "stream",
     "text": [
      "3.65 µs ± 58.9 ns per loop (mean ± std. dev. of 7 runs, 100000 loops each)\n",
      "[[ 0.  2.  0.  6.  0. 10.  0. 14.  0. 18.  0. 22.  0. 26.  0. 30.  0. 34.\n",
      "   0. 38.]\n",
      " [ 0.  0.  8.  0. 16.  0. 24.  0. 32.  0. 40.  0. 48.  0. 56.  0. 64.  0.\n",
      "  72.  0.]\n",
      " [ 0.  0.  0. 12.  0. 20.  0. 28.  0. 36.  0. 44.  0. 52.  0. 60.  0. 68.\n",
      "   0. 76.]\n",
      " [ 0.  0.  0.  0. 16.  0. 24.  0. 32.  0. 40.  0. 48.  0. 56.  0. 64.  0.\n",
      "  72.  0.]\n",
      " [ 0.  0.  0.  0.  0. 20.  0. 28.  0. 36.  0. 44.  0. 52.  0. 60.  0. 68.\n",
      "   0. 76.]\n",
      " [ 0.  0.  0.  0.  0.  0. 24.  0. 32.  0. 40.  0. 48.  0. 56.  0. 64.  0.\n",
      "  72.  0.]\n",
      " [ 0.  0.  0.  0.  0.  0.  0. 28.  0. 36.  0. 44.  0. 52.  0. 60.  0. 68.\n",
      "   0. 76.]\n",
      " [ 0.  0.  0.  0.  0.  0.  0.  0. 32.  0. 40.  0. 48.  0. 56.  0. 64.  0.\n",
      "  72.  0.]\n",
      " [ 0.  0.  0.  0.  0.  0.  0.  0.  0. 36.  0. 44.  0. 52.  0. 60.  0. 68.\n",
      "   0. 76.]\n",
      " [ 0.  0.  0.  0.  0.  0.  0.  0.  0.  0. 40.  0. 48.  0. 56.  0. 64.  0.\n",
      "  72.  0.]\n",
      " [ 0.  0.  0.  0.  0.  0.  0.  0.  0.  0.  0. 44.  0. 52.  0. 60.  0. 68.\n",
      "   0. 76.]\n",
      " [ 0.  0.  0.  0.  0.  0.  0.  0.  0.  0.  0.  0. 48.  0. 56.  0. 64.  0.\n",
      "  72.  0.]\n",
      " [ 0.  0.  0.  0.  0.  0.  0.  0.  0.  0.  0.  0.  0. 52.  0. 60.  0. 68.\n",
      "   0. 76.]\n",
      " [ 0.  0.  0.  0.  0.  0.  0.  0.  0.  0.  0.  0.  0.  0. 56.  0. 64.  0.\n",
      "  72.  0.]\n",
      " [ 0.  0.  0.  0.  0.  0.  0.  0.  0.  0.  0.  0.  0.  0.  0. 60.  0. 68.\n",
      "   0. 76.]\n",
      " [ 0.  0.  0.  0.  0.  0.  0.  0.  0.  0.  0.  0.  0.  0.  0.  0. 64.  0.\n",
      "  72.  0.]\n",
      " [ 0.  0.  0.  0.  0.  0.  0.  0.  0.  0.  0.  0.  0.  0.  0.  0.  0. 68.\n",
      "   0. 76.]\n",
      " [ 0.  0.  0.  0.  0.  0.  0.  0.  0.  0.  0.  0.  0.  0.  0.  0.  0.  0.\n",
      "  72.  0.]\n",
      " [ 0.  0.  0.  0.  0.  0.  0.  0.  0.  0.  0.  0.  0.  0.  0.  0.  0.  0.\n",
      "   0. 76.]\n",
      " [ 0.  0.  0.  0.  0.  0.  0.  0.  0.  0.  0.  0.  0.  0.  0.  0.  0.  0.\n",
      "   0.  0.]]\n"
     ]
    },
    {
     "name": "stderr",
     "output_type": "stream",
     "text": [
      "C:\\Users\\Gorilla Rig\\Anaconda3\\lib\\site-packages\\scipy\\sparse\\linalg\\dsolve\\linsolve.py:295: SparseEfficiencyWarning: splu requires CSC matrix format\n",
      "  warn('splu requires CSC matrix format', SparseEfficiencyWarning)\n",
      "C:\\Users\\Gorilla Rig\\Anaconda3\\lib\\site-packages\\scipy\\sparse\\linalg\\dsolve\\linsolve.py:202: SparseEfficiencyWarning: spsolve is more efficient when sparse b is in the CSC matrix format\n",
      "  'is in the CSC matrix format', SparseEfficiencyWarning)\n",
      "C:\\Users\\Gorilla Rig\\Anaconda3\\lib\\site-packages\\scipy\\sparse\\compressed.py:742: SparseEfficiencyWarning: Changing the sparsity structure of a csr_matrix is expensive. lil_matrix is more efficient.\n",
      "  SparseEfficiencyWarning)\n"
     ]
    },
    {
     "name": "stdout",
     "output_type": "stream",
     "text": [
      "3.69 µs ± 158 ns per loop (mean ± std. dev. of 7 runs, 100000 loops each)\n"
     ]
    },
    {
     "name": "stderr",
     "output_type": "stream",
     "text": [
      "C:\\Users\\Gorilla Rig\\Anaconda3\\lib\\site-packages\\scipy\\sparse\\linalg\\dsolve\\linsolve.py:295: SparseEfficiencyWarning: splu requires CSC matrix format\n",
      "  warn('splu requires CSC matrix format', SparseEfficiencyWarning)\n",
      "C:\\Users\\Gorilla Rig\\Anaconda3\\lib\\site-packages\\scipy\\sparse\\linalg\\dsolve\\linsolve.py:202: SparseEfficiencyWarning: spsolve is more efficient when sparse b is in the CSC matrix format\n",
      "  'is in the CSC matrix format', SparseEfficiencyWarning)\n",
      "C:\\Users\\Gorilla Rig\\Anaconda3\\lib\\site-packages\\scipy\\sparse\\compressed.py:742: SparseEfficiencyWarning: Changing the sparsity structure of a csr_matrix is expensive. lil_matrix is more efficient.\n",
      "  SparseEfficiencyWarning)\n"
     ]
    },
    {
     "name": "stdout",
     "output_type": "stream",
     "text": [
      "3.65 µs ± 107 ns per loop (mean ± std. dev. of 7 runs, 100000 loops each)\n"
     ]
    },
    {
     "name": "stderr",
     "output_type": "stream",
     "text": [
      "C:\\Users\\Gorilla Rig\\Anaconda3\\lib\\site-packages\\scipy\\sparse\\linalg\\dsolve\\linsolve.py:295: SparseEfficiencyWarning: splu requires CSC matrix format\n",
      "  warn('splu requires CSC matrix format', SparseEfficiencyWarning)\n",
      "C:\\Users\\Gorilla Rig\\Anaconda3\\lib\\site-packages\\scipy\\sparse\\linalg\\dsolve\\linsolve.py:202: SparseEfficiencyWarning: spsolve is more efficient when sparse b is in the CSC matrix format\n",
      "  'is in the CSC matrix format', SparseEfficiencyWarning)\n",
      "C:\\Users\\Gorilla Rig\\Anaconda3\\lib\\site-packages\\scipy\\sparse\\compressed.py:742: SparseEfficiencyWarning: Changing the sparsity structure of a csr_matrix is expensive. lil_matrix is more efficient.\n",
      "  SparseEfficiencyWarning)\n"
     ]
    },
    {
     "name": "stdout",
     "output_type": "stream",
     "text": [
      "3.59 µs ± 10.6 ns per loop (mean ± std. dev. of 7 runs, 100000 loops each)\n"
     ]
    },
    {
     "name": "stderr",
     "output_type": "stream",
     "text": [
      "C:\\Users\\Gorilla Rig\\Anaconda3\\lib\\site-packages\\scipy\\sparse\\linalg\\dsolve\\linsolve.py:295: SparseEfficiencyWarning: splu requires CSC matrix format\n",
      "  warn('splu requires CSC matrix format', SparseEfficiencyWarning)\n",
      "C:\\Users\\Gorilla Rig\\Anaconda3\\lib\\site-packages\\scipy\\sparse\\linalg\\dsolve\\linsolve.py:202: SparseEfficiencyWarning: spsolve is more efficient when sparse b is in the CSC matrix format\n",
      "  'is in the CSC matrix format', SparseEfficiencyWarning)\n",
      "C:\\Users\\Gorilla Rig\\Anaconda3\\lib\\site-packages\\scipy\\sparse\\compressed.py:742: SparseEfficiencyWarning: Changing the sparsity structure of a csr_matrix is expensive. lil_matrix is more efficient.\n",
      "  SparseEfficiencyWarning)\n"
     ]
    },
    {
     "name": "stdout",
     "output_type": "stream",
     "text": [
      "3.68 µs ± 68.5 ns per loop (mean ± std. dev. of 7 runs, 100000 loops each)\n",
      "[[ 0.  2.  0.  6.  0. 10.  0. 14.  0. 18.  0. 22.  0. 26.  0. 30.  0. 34.\n",
      "   0. 38.]\n",
      " [ 0.  0.  8.  0. 16.  0. 24.  0. 32.  0. 40.  0. 48.  0. 56.  0. 64.  0.\n",
      "  72.  0.]\n",
      " [ 0.  0.  0. 12.  0. 20.  0. 28.  0. 36.  0. 44.  0. 52.  0. 60.  0. 68.\n",
      "   0. 76.]\n",
      " [ 0.  0.  0.  0. 16.  0. 24.  0. 32.  0. 40.  0. 48.  0. 56.  0. 64.  0.\n",
      "  72.  0.]\n",
      " [ 0.  0.  0.  0.  0. 20.  0. 28.  0. 36.  0. 44.  0. 52.  0. 60.  0. 68.\n",
      "   0. 76.]\n",
      " [ 0.  0.  0.  0.  0.  0. 24.  0. 32.  0. 40.  0. 48.  0. 56.  0. 64.  0.\n",
      "  72.  0.]\n",
      " [ 0.  0.  0.  0.  0.  0.  0. 28.  0. 36.  0. 44.  0. 52.  0. 60.  0. 68.\n",
      "   0. 76.]\n",
      " [ 0.  0.  0.  0.  0.  0.  0.  0. 32.  0. 40.  0. 48.  0. 56.  0. 64.  0.\n",
      "  72.  0.]\n",
      " [ 0.  0.  0.  0.  0.  0.  0.  0.  0. 36.  0. 44.  0. 52.  0. 60.  0. 68.\n",
      "   0. 76.]\n",
      " [ 0.  0.  0.  0.  0.  0.  0.  0.  0.  0. 40.  0. 48.  0. 56.  0. 64.  0.\n",
      "  72.  0.]\n",
      " [ 0.  0.  0.  0.  0.  0.  0.  0.  0.  0.  0. 44.  0. 52.  0. 60.  0. 68.\n",
      "   0. 76.]\n",
      " [ 0.  0.  0.  0.  0.  0.  0.  0.  0.  0.  0.  0. 48.  0. 56.  0. 64.  0.\n",
      "  72.  0.]\n",
      " [ 0.  0.  0.  0.  0.  0.  0.  0.  0.  0.  0.  0.  0. 52.  0. 60.  0. 68.\n",
      "   0. 76.]\n",
      " [ 0.  0.  0.  0.  0.  0.  0.  0.  0.  0.  0.  0.  0.  0. 56.  0. 64.  0.\n",
      "  72.  0.]\n",
      " [ 0.  0.  0.  0.  0.  0.  0.  0.  0.  0.  0.  0.  0.  0.  0. 60.  0. 68.\n",
      "   0. 76.]\n",
      " [ 0.  0.  0.  0.  0.  0.  0.  0.  0.  0.  0.  0.  0.  0.  0.  0. 64.  0.\n",
      "  72.  0.]\n",
      " [ 0.  0.  0.  0.  0.  0.  0.  0.  0.  0.  0.  0.  0.  0.  0.  0.  0. 68.\n",
      "   0. 76.]\n",
      " [ 0.  0.  0.  0.  0.  0.  0.  0.  0.  0.  0.  0.  0.  0.  0.  0.  0.  0.\n",
      "  72.  0.]\n",
      " [ 0.  0.  0.  0.  0.  0.  0.  0.  0.  0.  0.  0.  0.  0.  0.  0.  0.  0.\n",
      "   0. 76.]\n",
      " [ 0.  0.  0.  0.  0.  0.  0.  0.  0.  0.  0.  0.  0.  0.  0.  0.  0.  0.\n",
      "   0.  0.]]\n"
     ]
    },
    {
     "name": "stderr",
     "output_type": "stream",
     "text": [
      "C:\\Users\\Gorilla Rig\\Anaconda3\\lib\\site-packages\\scipy\\sparse\\linalg\\dsolve\\linsolve.py:295: SparseEfficiencyWarning: splu requires CSC matrix format\n",
      "  warn('splu requires CSC matrix format', SparseEfficiencyWarning)\n",
      "C:\\Users\\Gorilla Rig\\Anaconda3\\lib\\site-packages\\scipy\\sparse\\linalg\\dsolve\\linsolve.py:202: SparseEfficiencyWarning: spsolve is more efficient when sparse b is in the CSC matrix format\n",
      "  'is in the CSC matrix format', SparseEfficiencyWarning)\n",
      "C:\\Users\\Gorilla Rig\\Anaconda3\\lib\\site-packages\\scipy\\sparse\\compressed.py:742: SparseEfficiencyWarning: Changing the sparsity structure of a csr_matrix is expensive. lil_matrix is more efficient.\n",
      "  SparseEfficiencyWarning)\n"
     ]
    },
    {
     "name": "stdout",
     "output_type": "stream",
     "text": [
      "3.76 µs ± 166 ns per loop (mean ± std. dev. of 7 runs, 100000 loops each)\n"
     ]
    },
    {
     "name": "stderr",
     "output_type": "stream",
     "text": [
      "C:\\Users\\Gorilla Rig\\Anaconda3\\lib\\site-packages\\scipy\\sparse\\linalg\\dsolve\\linsolve.py:295: SparseEfficiencyWarning: splu requires CSC matrix format\n",
      "  warn('splu requires CSC matrix format', SparseEfficiencyWarning)\n",
      "C:\\Users\\Gorilla Rig\\Anaconda3\\lib\\site-packages\\scipy\\sparse\\linalg\\dsolve\\linsolve.py:202: SparseEfficiencyWarning: spsolve is more efficient when sparse b is in the CSC matrix format\n",
      "  'is in the CSC matrix format', SparseEfficiencyWarning)\n",
      "C:\\Users\\Gorilla Rig\\Anaconda3\\lib\\site-packages\\scipy\\sparse\\compressed.py:742: SparseEfficiencyWarning: Changing the sparsity structure of a csr_matrix is expensive. lil_matrix is more efficient.\n",
      "  SparseEfficiencyWarning)\n"
     ]
    },
    {
     "name": "stdout",
     "output_type": "stream",
     "text": [
      "3.86 µs ± 223 ns per loop (mean ± std. dev. of 7 runs, 100000 loops each)\n"
     ]
    },
    {
     "name": "stderr",
     "output_type": "stream",
     "text": [
      "C:\\Users\\Gorilla Rig\\Anaconda3\\lib\\site-packages\\scipy\\sparse\\linalg\\dsolve\\linsolve.py:295: SparseEfficiencyWarning: splu requires CSC matrix format\n",
      "  warn('splu requires CSC matrix format', SparseEfficiencyWarning)\n",
      "C:\\Users\\Gorilla Rig\\Anaconda3\\lib\\site-packages\\scipy\\sparse\\linalg\\dsolve\\linsolve.py:202: SparseEfficiencyWarning: spsolve is more efficient when sparse b is in the CSC matrix format\n",
      "  'is in the CSC matrix format', SparseEfficiencyWarning)\n",
      "C:\\Users\\Gorilla Rig\\Anaconda3\\lib\\site-packages\\scipy\\sparse\\compressed.py:742: SparseEfficiencyWarning: Changing the sparsity structure of a csr_matrix is expensive. lil_matrix is more efficient.\n",
      "  SparseEfficiencyWarning)\n"
     ]
    },
    {
     "name": "stdout",
     "output_type": "stream",
     "text": [
      "3.77 µs ± 180 ns per loop (mean ± std. dev. of 7 runs, 100000 loops each)\n"
     ]
    },
    {
     "name": "stderr",
     "output_type": "stream",
     "text": [
      "C:\\Users\\Gorilla Rig\\Anaconda3\\lib\\site-packages\\scipy\\sparse\\linalg\\dsolve\\linsolve.py:295: SparseEfficiencyWarning: splu requires CSC matrix format\n",
      "  warn('splu requires CSC matrix format', SparseEfficiencyWarning)\n",
      "C:\\Users\\Gorilla Rig\\Anaconda3\\lib\\site-packages\\scipy\\sparse\\linalg\\dsolve\\linsolve.py:202: SparseEfficiencyWarning: spsolve is more efficient when sparse b is in the CSC matrix format\n",
      "  'is in the CSC matrix format', SparseEfficiencyWarning)\n",
      "C:\\Users\\Gorilla Rig\\Anaconda3\\lib\\site-packages\\scipy\\sparse\\compressed.py:742: SparseEfficiencyWarning: Changing the sparsity structure of a csr_matrix is expensive. lil_matrix is more efficient.\n",
      "  SparseEfficiencyWarning)\n"
     ]
    },
    {
     "name": "stdout",
     "output_type": "stream",
     "text": [
      "3.95 µs ± 372 ns per loop (mean ± std. dev. of 7 runs, 100000 loops each)\n",
      "[[ 0.  2.  0.  6.  0. 10.  0. 14.  0. 18.  0. 22.  0. 26.  0. 30.  0. 34.\n",
      "   0. 38.]\n",
      " [ 0.  0.  8.  0. 16.  0. 24.  0. 32.  0. 40.  0. 48.  0. 56.  0. 64.  0.\n",
      "  72.  0.]\n",
      " [ 0.  0.  0. 12.  0. 20.  0. 28.  0. 36.  0. 44.  0. 52.  0. 60.  0. 68.\n",
      "   0. 76.]\n",
      " [ 0.  0.  0.  0. 16.  0. 24.  0. 32.  0. 40.  0. 48.  0. 56.  0. 64.  0.\n",
      "  72.  0.]\n",
      " [ 0.  0.  0.  0.  0. 20.  0. 28.  0. 36.  0. 44.  0. 52.  0. 60.  0. 68.\n",
      "   0. 76.]\n",
      " [ 0.  0.  0.  0.  0.  0. 24.  0. 32.  0. 40.  0. 48.  0. 56.  0. 64.  0.\n",
      "  72.  0.]\n",
      " [ 0.  0.  0.  0.  0.  0.  0. 28.  0. 36.  0. 44.  0. 52.  0. 60.  0. 68.\n",
      "   0. 76.]\n",
      " [ 0.  0.  0.  0.  0.  0.  0.  0. 32.  0. 40.  0. 48.  0. 56.  0. 64.  0.\n",
      "  72.  0.]\n",
      " [ 0.  0.  0.  0.  0.  0.  0.  0.  0. 36.  0. 44.  0. 52.  0. 60.  0. 68.\n",
      "   0. 76.]\n",
      " [ 0.  0.  0.  0.  0.  0.  0.  0.  0.  0. 40.  0. 48.  0. 56.  0. 64.  0.\n",
      "  72.  0.]\n",
      " [ 0.  0.  0.  0.  0.  0.  0.  0.  0.  0.  0. 44.  0. 52.  0. 60.  0. 68.\n",
      "   0. 76.]\n",
      " [ 0.  0.  0.  0.  0.  0.  0.  0.  0.  0.  0.  0. 48.  0. 56.  0. 64.  0.\n",
      "  72.  0.]\n",
      " [ 0.  0.  0.  0.  0.  0.  0.  0.  0.  0.  0.  0.  0. 52.  0. 60.  0. 68.\n",
      "   0. 76.]\n",
      " [ 0.  0.  0.  0.  0.  0.  0.  0.  0.  0.  0.  0.  0.  0. 56.  0. 64.  0.\n",
      "  72.  0.]\n",
      " [ 0.  0.  0.  0.  0.  0.  0.  0.  0.  0.  0.  0.  0.  0.  0. 60.  0. 68.\n",
      "   0. 76.]\n",
      " [ 0.  0.  0.  0.  0.  0.  0.  0.  0.  0.  0.  0.  0.  0.  0.  0. 64.  0.\n",
      "  72.  0.]\n",
      " [ 0.  0.  0.  0.  0.  0.  0.  0.  0.  0.  0.  0.  0.  0.  0.  0.  0. 68.\n",
      "   0. 76.]\n",
      " [ 0.  0.  0.  0.  0.  0.  0.  0.  0.  0.  0.  0.  0.  0.  0.  0.  0.  0.\n",
      "  72.  0.]\n",
      " [ 0.  0.  0.  0.  0.  0.  0.  0.  0.  0.  0.  0.  0.  0.  0.  0.  0.  0.\n",
      "   0. 76.]\n",
      " [ 0.  0.  0.  0.  0.  0.  0.  0.  0.  0.  0.  0.  0.  0.  0.  0.  0.  0.\n",
      "   0.  0.]]\n"
     ]
    },
    {
     "name": "stderr",
     "output_type": "stream",
     "text": [
      "C:\\Users\\Gorilla Rig\\Anaconda3\\lib\\site-packages\\scipy\\sparse\\linalg\\dsolve\\linsolve.py:295: SparseEfficiencyWarning: splu requires CSC matrix format\n",
      "  warn('splu requires CSC matrix format', SparseEfficiencyWarning)\n",
      "C:\\Users\\Gorilla Rig\\Anaconda3\\lib\\site-packages\\scipy\\sparse\\linalg\\dsolve\\linsolve.py:202: SparseEfficiencyWarning: spsolve is more efficient when sparse b is in the CSC matrix format\n",
      "  'is in the CSC matrix format', SparseEfficiencyWarning)\n",
      "C:\\Users\\Gorilla Rig\\Anaconda3\\lib\\site-packages\\scipy\\sparse\\compressed.py:742: SparseEfficiencyWarning: Changing the sparsity structure of a csr_matrix is expensive. lil_matrix is more efficient.\n",
      "  SparseEfficiencyWarning)\n"
     ]
    },
    {
     "name": "stdout",
     "output_type": "stream",
     "text": [
      "3.91 µs ± 113 ns per loop (mean ± std. dev. of 7 runs, 100000 loops each)\n"
     ]
    },
    {
     "name": "stderr",
     "output_type": "stream",
     "text": [
      "C:\\Users\\Gorilla Rig\\Anaconda3\\lib\\site-packages\\scipy\\sparse\\linalg\\dsolve\\linsolve.py:295: SparseEfficiencyWarning: splu requires CSC matrix format\n",
      "  warn('splu requires CSC matrix format', SparseEfficiencyWarning)\n",
      "C:\\Users\\Gorilla Rig\\Anaconda3\\lib\\site-packages\\scipy\\sparse\\linalg\\dsolve\\linsolve.py:202: SparseEfficiencyWarning: spsolve is more efficient when sparse b is in the CSC matrix format\n",
      "  'is in the CSC matrix format', SparseEfficiencyWarning)\n",
      "C:\\Users\\Gorilla Rig\\Anaconda3\\lib\\site-packages\\scipy\\sparse\\compressed.py:742: SparseEfficiencyWarning: Changing the sparsity structure of a csr_matrix is expensive. lil_matrix is more efficient.\n",
      "  SparseEfficiencyWarning)\n"
     ]
    },
    {
     "name": "stdout",
     "output_type": "stream",
     "text": [
      "3.85 µs ± 234 ns per loop (mean ± std. dev. of 7 runs, 100000 loops each)\n"
     ]
    },
    {
     "name": "stderr",
     "output_type": "stream",
     "text": [
      "C:\\Users\\Gorilla Rig\\Anaconda3\\lib\\site-packages\\scipy\\sparse\\linalg\\dsolve\\linsolve.py:295: SparseEfficiencyWarning: splu requires CSC matrix format\n",
      "  warn('splu requires CSC matrix format', SparseEfficiencyWarning)\n",
      "C:\\Users\\Gorilla Rig\\Anaconda3\\lib\\site-packages\\scipy\\sparse\\linalg\\dsolve\\linsolve.py:202: SparseEfficiencyWarning: spsolve is more efficient when sparse b is in the CSC matrix format\n",
      "  'is in the CSC matrix format', SparseEfficiencyWarning)\n",
      "C:\\Users\\Gorilla Rig\\Anaconda3\\lib\\site-packages\\scipy\\sparse\\compressed.py:742: SparseEfficiencyWarning: Changing the sparsity structure of a csr_matrix is expensive. lil_matrix is more efficient.\n",
      "  SparseEfficiencyWarning)\n"
     ]
    },
    {
     "name": "stdout",
     "output_type": "stream",
     "text": [
      "3.87 µs ± 391 ns per loop (mean ± std. dev. of 7 runs, 100000 loops each)\n"
     ]
    },
    {
     "name": "stderr",
     "output_type": "stream",
     "text": [
      "C:\\Users\\Gorilla Rig\\Anaconda3\\lib\\site-packages\\scipy\\sparse\\linalg\\dsolve\\linsolve.py:295: SparseEfficiencyWarning: splu requires CSC matrix format\n",
      "  warn('splu requires CSC matrix format', SparseEfficiencyWarning)\n",
      "C:\\Users\\Gorilla Rig\\Anaconda3\\lib\\site-packages\\scipy\\sparse\\linalg\\dsolve\\linsolve.py:202: SparseEfficiencyWarning: spsolve is more efficient when sparse b is in the CSC matrix format\n",
      "  'is in the CSC matrix format', SparseEfficiencyWarning)\n",
      "C:\\Users\\Gorilla Rig\\Anaconda3\\lib\\site-packages\\scipy\\sparse\\compressed.py:742: SparseEfficiencyWarning: Changing the sparsity structure of a csr_matrix is expensive. lil_matrix is more efficient.\n",
      "  SparseEfficiencyWarning)\n"
     ]
    },
    {
     "name": "stdout",
     "output_type": "stream",
     "text": [
      "3.95 µs ± 247 ns per loop (mean ± std. dev. of 7 runs, 100000 loops each)\n",
      "[[ 0.  2.  0.  6.  0. 10.  0. 14.  0. 18.  0. 22.  0. 26.  0. 30.  0. 34.\n",
      "   0. 38.]\n",
      " [ 0.  0.  8.  0. 16.  0. 24.  0. 32.  0. 40.  0. 48.  0. 56.  0. 64.  0.\n",
      "  72.  0.]\n",
      " [ 0.  0.  0. 12.  0. 20.  0. 28.  0. 36.  0. 44.  0. 52.  0. 60.  0. 68.\n",
      "   0. 76.]\n",
      " [ 0.  0.  0.  0. 16.  0. 24.  0. 32.  0. 40.  0. 48.  0. 56.  0. 64.  0.\n",
      "  72.  0.]\n",
      " [ 0.  0.  0.  0.  0. 20.  0. 28.  0. 36.  0. 44.  0. 52.  0. 60.  0. 68.\n",
      "   0. 76.]\n",
      " [ 0.  0.  0.  0.  0.  0. 24.  0. 32.  0. 40.  0. 48.  0. 56.  0. 64.  0.\n",
      "  72.  0.]\n",
      " [ 0.  0.  0.  0.  0.  0.  0. 28.  0. 36.  0. 44.  0. 52.  0. 60.  0. 68.\n",
      "   0. 76.]\n",
      " [ 0.  0.  0.  0.  0.  0.  0.  0. 32.  0. 40.  0. 48.  0. 56.  0. 64.  0.\n",
      "  72.  0.]\n",
      " [ 0.  0.  0.  0.  0.  0.  0.  0.  0. 36.  0. 44.  0. 52.  0. 60.  0. 68.\n",
      "   0. 76.]\n",
      " [ 0.  0.  0.  0.  0.  0.  0.  0.  0.  0. 40.  0. 48.  0. 56.  0. 64.  0.\n",
      "  72.  0.]\n",
      " [ 0.  0.  0.  0.  0.  0.  0.  0.  0.  0.  0. 44.  0. 52.  0. 60.  0. 68.\n",
      "   0. 76.]\n",
      " [ 0.  0.  0.  0.  0.  0.  0.  0.  0.  0.  0.  0. 48.  0. 56.  0. 64.  0.\n",
      "  72.  0.]\n",
      " [ 0.  0.  0.  0.  0.  0.  0.  0.  0.  0.  0.  0.  0. 52.  0. 60.  0. 68.\n",
      "   0. 76.]\n",
      " [ 0.  0.  0.  0.  0.  0.  0.  0.  0.  0.  0.  0.  0.  0. 56.  0. 64.  0.\n",
      "  72.  0.]\n",
      " [ 0.  0.  0.  0.  0.  0.  0.  0.  0.  0.  0.  0.  0.  0.  0. 60.  0. 68.\n",
      "   0. 76.]\n",
      " [ 0.  0.  0.  0.  0.  0.  0.  0.  0.  0.  0.  0.  0.  0.  0.  0. 64.  0.\n",
      "  72.  0.]\n",
      " [ 0.  0.  0.  0.  0.  0.  0.  0.  0.  0.  0.  0.  0.  0.  0.  0.  0. 68.\n",
      "   0. 76.]\n",
      " [ 0.  0.  0.  0.  0.  0.  0.  0.  0.  0.  0.  0.  0.  0.  0.  0.  0.  0.\n",
      "  72.  0.]\n",
      " [ 0.  0.  0.  0.  0.  0.  0.  0.  0.  0.  0.  0.  0.  0.  0.  0.  0.  0.\n",
      "   0. 76.]\n",
      " [ 0.  0.  0.  0.  0.  0.  0.  0.  0.  0.  0.  0.  0.  0.  0.  0.  0.  0.\n",
      "   0.  0.]]\n"
     ]
    },
    {
     "name": "stderr",
     "output_type": "stream",
     "text": [
      "C:\\Users\\Gorilla Rig\\Anaconda3\\lib\\site-packages\\scipy\\sparse\\linalg\\dsolve\\linsolve.py:295: SparseEfficiencyWarning: splu requires CSC matrix format\n",
      "  warn('splu requires CSC matrix format', SparseEfficiencyWarning)\n",
      "C:\\Users\\Gorilla Rig\\Anaconda3\\lib\\site-packages\\scipy\\sparse\\linalg\\dsolve\\linsolve.py:202: SparseEfficiencyWarning: spsolve is more efficient when sparse b is in the CSC matrix format\n",
      "  'is in the CSC matrix format', SparseEfficiencyWarning)\n",
      "C:\\Users\\Gorilla Rig\\Anaconda3\\lib\\site-packages\\scipy\\sparse\\compressed.py:742: SparseEfficiencyWarning: Changing the sparsity structure of a csr_matrix is expensive. lil_matrix is more efficient.\n",
      "  SparseEfficiencyWarning)\n"
     ]
    },
    {
     "name": "stdout",
     "output_type": "stream",
     "text": [
      "3.73 µs ± 239 ns per loop (mean ± std. dev. of 7 runs, 100000 loops each)\n"
     ]
    },
    {
     "name": "stderr",
     "output_type": "stream",
     "text": [
      "C:\\Users\\Gorilla Rig\\Anaconda3\\lib\\site-packages\\scipy\\sparse\\linalg\\dsolve\\linsolve.py:295: SparseEfficiencyWarning: splu requires CSC matrix format\n",
      "  warn('splu requires CSC matrix format', SparseEfficiencyWarning)\n",
      "C:\\Users\\Gorilla Rig\\Anaconda3\\lib\\site-packages\\scipy\\sparse\\linalg\\dsolve\\linsolve.py:202: SparseEfficiencyWarning: spsolve is more efficient when sparse b is in the CSC matrix format\n",
      "  'is in the CSC matrix format', SparseEfficiencyWarning)\n",
      "C:\\Users\\Gorilla Rig\\Anaconda3\\lib\\site-packages\\scipy\\sparse\\compressed.py:742: SparseEfficiencyWarning: Changing the sparsity structure of a csr_matrix is expensive. lil_matrix is more efficient.\n",
      "  SparseEfficiencyWarning)\n"
     ]
    },
    {
     "name": "stdout",
     "output_type": "stream",
     "text": [
      "3.69 µs ± 157 ns per loop (mean ± std. dev. of 7 runs, 100000 loops each)\n"
     ]
    },
    {
     "name": "stderr",
     "output_type": "stream",
     "text": [
      "C:\\Users\\Gorilla Rig\\Anaconda3\\lib\\site-packages\\scipy\\sparse\\linalg\\dsolve\\linsolve.py:295: SparseEfficiencyWarning: splu requires CSC matrix format\n",
      "  warn('splu requires CSC matrix format', SparseEfficiencyWarning)\n",
      "C:\\Users\\Gorilla Rig\\Anaconda3\\lib\\site-packages\\scipy\\sparse\\linalg\\dsolve\\linsolve.py:202: SparseEfficiencyWarning: spsolve is more efficient when sparse b is in the CSC matrix format\n",
      "  'is in the CSC matrix format', SparseEfficiencyWarning)\n",
      "C:\\Users\\Gorilla Rig\\Anaconda3\\lib\\site-packages\\scipy\\sparse\\compressed.py:742: SparseEfficiencyWarning: Changing the sparsity structure of a csr_matrix is expensive. lil_matrix is more efficient.\n",
      "  SparseEfficiencyWarning)\n"
     ]
    },
    {
     "name": "stdout",
     "output_type": "stream",
     "text": [
      "3.62 µs ± 16.9 ns per loop (mean ± std. dev. of 7 runs, 100000 loops each)\n"
     ]
    },
    {
     "name": "stderr",
     "output_type": "stream",
     "text": [
      "C:\\Users\\Gorilla Rig\\Anaconda3\\lib\\site-packages\\scipy\\sparse\\linalg\\dsolve\\linsolve.py:295: SparseEfficiencyWarning: splu requires CSC matrix format\n",
      "  warn('splu requires CSC matrix format', SparseEfficiencyWarning)\n",
      "C:\\Users\\Gorilla Rig\\Anaconda3\\lib\\site-packages\\scipy\\sparse\\linalg\\dsolve\\linsolve.py:202: SparseEfficiencyWarning: spsolve is more efficient when sparse b is in the CSC matrix format\n",
      "  'is in the CSC matrix format', SparseEfficiencyWarning)\n",
      "C:\\Users\\Gorilla Rig\\Anaconda3\\lib\\site-packages\\scipy\\sparse\\compressed.py:742: SparseEfficiencyWarning: Changing the sparsity structure of a csr_matrix is expensive. lil_matrix is more efficient.\n",
      "  SparseEfficiencyWarning)\n"
     ]
    },
    {
     "name": "stdout",
     "output_type": "stream",
     "text": [
      "3.63 µs ± 30.5 ns per loop (mean ± std. dev. of 7 runs, 100000 loops each)\n",
      "[[ 0.  2.  0.  6.  0. 10.  0. 14.  0. 18.  0. 22.  0. 26.  0. 30.  0. 34.\n",
      "   0. 38.]\n",
      " [ 0.  0.  8.  0. 16.  0. 24.  0. 32.  0. 40.  0. 48.  0. 56.  0. 64.  0.\n",
      "  72.  0.]\n",
      " [ 0.  0.  0. 12.  0. 20.  0. 28.  0. 36.  0. 44.  0. 52.  0. 60.  0. 68.\n",
      "   0. 76.]\n",
      " [ 0.  0.  0.  0. 16.  0. 24.  0. 32.  0. 40.  0. 48.  0. 56.  0. 64.  0.\n",
      "  72.  0.]\n",
      " [ 0.  0.  0.  0.  0. 20.  0. 28.  0. 36.  0. 44.  0. 52.  0. 60.  0. 68.\n",
      "   0. 76.]\n",
      " [ 0.  0.  0.  0.  0.  0. 24.  0. 32.  0. 40.  0. 48.  0. 56.  0. 64.  0.\n",
      "  72.  0.]\n",
      " [ 0.  0.  0.  0.  0.  0.  0. 28.  0. 36.  0. 44.  0. 52.  0. 60.  0. 68.\n",
      "   0. 76.]\n",
      " [ 0.  0.  0.  0.  0.  0.  0.  0. 32.  0. 40.  0. 48.  0. 56.  0. 64.  0.\n",
      "  72.  0.]\n",
      " [ 0.  0.  0.  0.  0.  0.  0.  0.  0. 36.  0. 44.  0. 52.  0. 60.  0. 68.\n",
      "   0. 76.]\n",
      " [ 0.  0.  0.  0.  0.  0.  0.  0.  0.  0. 40.  0. 48.  0. 56.  0. 64.  0.\n",
      "  72.  0.]\n",
      " [ 0.  0.  0.  0.  0.  0.  0.  0.  0.  0.  0. 44.  0. 52.  0. 60.  0. 68.\n",
      "   0. 76.]\n",
      " [ 0.  0.  0.  0.  0.  0.  0.  0.  0.  0.  0.  0. 48.  0. 56.  0. 64.  0.\n",
      "  72.  0.]\n",
      " [ 0.  0.  0.  0.  0.  0.  0.  0.  0.  0.  0.  0.  0. 52.  0. 60.  0. 68.\n",
      "   0. 76.]\n",
      " [ 0.  0.  0.  0.  0.  0.  0.  0.  0.  0.  0.  0.  0.  0. 56.  0. 64.  0.\n",
      "  72.  0.]\n",
      " [ 0.  0.  0.  0.  0.  0.  0.  0.  0.  0.  0.  0.  0.  0.  0. 60.  0. 68.\n",
      "   0. 76.]\n",
      " [ 0.  0.  0.  0.  0.  0.  0.  0.  0.  0.  0.  0.  0.  0.  0.  0. 64.  0.\n",
      "  72.  0.]\n",
      " [ 0.  0.  0.  0.  0.  0.  0.  0.  0.  0.  0.  0.  0.  0.  0.  0.  0. 68.\n",
      "   0. 76.]\n",
      " [ 0.  0.  0.  0.  0.  0.  0.  0.  0.  0.  0.  0.  0.  0.  0.  0.  0.  0.\n",
      "  72.  0.]\n",
      " [ 0.  0.  0.  0.  0.  0.  0.  0.  0.  0.  0.  0.  0.  0.  0.  0.  0.  0.\n",
      "   0. 76.]\n",
      " [ 0.  0.  0.  0.  0.  0.  0.  0.  0.  0.  0.  0.  0.  0.  0.  0.  0.  0.\n",
      "   0.  0.]]\n"
     ]
    },
    {
     "name": "stderr",
     "output_type": "stream",
     "text": [
      "C:\\Users\\Gorilla Rig\\Anaconda3\\lib\\site-packages\\scipy\\sparse\\linalg\\dsolve\\linsolve.py:295: SparseEfficiencyWarning: splu requires CSC matrix format\n",
      "  warn('splu requires CSC matrix format', SparseEfficiencyWarning)\n",
      "C:\\Users\\Gorilla Rig\\Anaconda3\\lib\\site-packages\\scipy\\sparse\\linalg\\dsolve\\linsolve.py:202: SparseEfficiencyWarning: spsolve is more efficient when sparse b is in the CSC matrix format\n",
      "  'is in the CSC matrix format', SparseEfficiencyWarning)\n",
      "C:\\Users\\Gorilla Rig\\Anaconda3\\lib\\site-packages\\scipy\\sparse\\compressed.py:742: SparseEfficiencyWarning: Changing the sparsity structure of a csr_matrix is expensive. lil_matrix is more efficient.\n",
      "  SparseEfficiencyWarning)\n"
     ]
    },
    {
     "name": "stdout",
     "output_type": "stream",
     "text": [
      "3.93 µs ± 149 ns per loop (mean ± std. dev. of 7 runs, 100000 loops each)\n"
     ]
    },
    {
     "name": "stderr",
     "output_type": "stream",
     "text": [
      "C:\\Users\\Gorilla Rig\\Anaconda3\\lib\\site-packages\\scipy\\sparse\\linalg\\dsolve\\linsolve.py:295: SparseEfficiencyWarning: splu requires CSC matrix format\n",
      "  warn('splu requires CSC matrix format', SparseEfficiencyWarning)\n",
      "C:\\Users\\Gorilla Rig\\Anaconda3\\lib\\site-packages\\scipy\\sparse\\linalg\\dsolve\\linsolve.py:202: SparseEfficiencyWarning: spsolve is more efficient when sparse b is in the CSC matrix format\n",
      "  'is in the CSC matrix format', SparseEfficiencyWarning)\n",
      "C:\\Users\\Gorilla Rig\\Anaconda3\\lib\\site-packages\\scipy\\sparse\\compressed.py:742: SparseEfficiencyWarning: Changing the sparsity structure of a csr_matrix is expensive. lil_matrix is more efficient.\n",
      "  SparseEfficiencyWarning)\n"
     ]
    },
    {
     "name": "stdout",
     "output_type": "stream",
     "text": [
      "3.99 µs ± 217 ns per loop (mean ± std. dev. of 7 runs, 100000 loops each)\n"
     ]
    },
    {
     "name": "stderr",
     "output_type": "stream",
     "text": [
      "C:\\Users\\Gorilla Rig\\Anaconda3\\lib\\site-packages\\scipy\\sparse\\linalg\\dsolve\\linsolve.py:295: SparseEfficiencyWarning: splu requires CSC matrix format\n",
      "  warn('splu requires CSC matrix format', SparseEfficiencyWarning)\n",
      "C:\\Users\\Gorilla Rig\\Anaconda3\\lib\\site-packages\\scipy\\sparse\\linalg\\dsolve\\linsolve.py:202: SparseEfficiencyWarning: spsolve is more efficient when sparse b is in the CSC matrix format\n",
      "  'is in the CSC matrix format', SparseEfficiencyWarning)\n",
      "C:\\Users\\Gorilla Rig\\Anaconda3\\lib\\site-packages\\scipy\\sparse\\compressed.py:742: SparseEfficiencyWarning: Changing the sparsity structure of a csr_matrix is expensive. lil_matrix is more efficient.\n",
      "  SparseEfficiencyWarning)\n"
     ]
    },
    {
     "name": "stdout",
     "output_type": "stream",
     "text": [
      "3.76 µs ± 139 ns per loop (mean ± std. dev. of 7 runs, 100000 loops each)\n"
     ]
    },
    {
     "name": "stderr",
     "output_type": "stream",
     "text": [
      "C:\\Users\\Gorilla Rig\\Anaconda3\\lib\\site-packages\\scipy\\sparse\\linalg\\dsolve\\linsolve.py:295: SparseEfficiencyWarning: splu requires CSC matrix format\n",
      "  warn('splu requires CSC matrix format', SparseEfficiencyWarning)\n",
      "C:\\Users\\Gorilla Rig\\Anaconda3\\lib\\site-packages\\scipy\\sparse\\linalg\\dsolve\\linsolve.py:202: SparseEfficiencyWarning: spsolve is more efficient when sparse b is in the CSC matrix format\n",
      "  'is in the CSC matrix format', SparseEfficiencyWarning)\n",
      "C:\\Users\\Gorilla Rig\\Anaconda3\\lib\\site-packages\\scipy\\sparse\\compressed.py:742: SparseEfficiencyWarning: Changing the sparsity structure of a csr_matrix is expensive. lil_matrix is more efficient.\n",
      "  SparseEfficiencyWarning)\n"
     ]
    },
    {
     "name": "stdout",
     "output_type": "stream",
     "text": [
      "4.21 µs ± 534 ns per loop (mean ± std. dev. of 7 runs, 100000 loops each)\n",
      "[[ 0.  2.  0.  6.  0. 10.  0. 14.  0. 18.  0. 22.  0. 26.  0. 30.  0. 34.\n",
      "   0. 38.]\n",
      " [ 0.  0.  8.  0. 16.  0. 24.  0. 32.  0. 40.  0. 48.  0. 56.  0. 64.  0.\n",
      "  72.  0.]\n",
      " [ 0.  0.  0. 12.  0. 20.  0. 28.  0. 36.  0. 44.  0. 52.  0. 60.  0. 68.\n",
      "   0. 76.]\n",
      " [ 0.  0.  0.  0. 16.  0. 24.  0. 32.  0. 40.  0. 48.  0. 56.  0. 64.  0.\n",
      "  72.  0.]\n",
      " [ 0.  0.  0.  0.  0. 20.  0. 28.  0. 36.  0. 44.  0. 52.  0. 60.  0. 68.\n",
      "   0. 76.]\n",
      " [ 0.  0.  0.  0.  0.  0. 24.  0. 32.  0. 40.  0. 48.  0. 56.  0. 64.  0.\n",
      "  72.  0.]\n",
      " [ 0.  0.  0.  0.  0.  0.  0. 28.  0. 36.  0. 44.  0. 52.  0. 60.  0. 68.\n",
      "   0. 76.]\n",
      " [ 0.  0.  0.  0.  0.  0.  0.  0. 32.  0. 40.  0. 48.  0. 56.  0. 64.  0.\n",
      "  72.  0.]\n",
      " [ 0.  0.  0.  0.  0.  0.  0.  0.  0. 36.  0. 44.  0. 52.  0. 60.  0. 68.\n",
      "   0. 76.]\n",
      " [ 0.  0.  0.  0.  0.  0.  0.  0.  0.  0. 40.  0. 48.  0. 56.  0. 64.  0.\n",
      "  72.  0.]\n",
      " [ 0.  0.  0.  0.  0.  0.  0.  0.  0.  0.  0. 44.  0. 52.  0. 60.  0. 68.\n",
      "   0. 76.]\n",
      " [ 0.  0.  0.  0.  0.  0.  0.  0.  0.  0.  0.  0. 48.  0. 56.  0. 64.  0.\n",
      "  72.  0.]\n",
      " [ 0.  0.  0.  0.  0.  0.  0.  0.  0.  0.  0.  0.  0. 52.  0. 60.  0. 68.\n",
      "   0. 76.]\n",
      " [ 0.  0.  0.  0.  0.  0.  0.  0.  0.  0.  0.  0.  0.  0. 56.  0. 64.  0.\n",
      "  72.  0.]\n",
      " [ 0.  0.  0.  0.  0.  0.  0.  0.  0.  0.  0.  0.  0.  0.  0. 60.  0. 68.\n",
      "   0. 76.]\n",
      " [ 0.  0.  0.  0.  0.  0.  0.  0.  0.  0.  0.  0.  0.  0.  0.  0. 64.  0.\n",
      "  72.  0.]\n",
      " [ 0.  0.  0.  0.  0.  0.  0.  0.  0.  0.  0.  0.  0.  0.  0.  0.  0. 68.\n",
      "   0. 76.]\n",
      " [ 0.  0.  0.  0.  0.  0.  0.  0.  0.  0.  0.  0.  0.  0.  0.  0.  0.  0.\n",
      "  72.  0.]\n",
      " [ 0.  0.  0.  0.  0.  0.  0.  0.  0.  0.  0.  0.  0.  0.  0.  0.  0.  0.\n",
      "   0. 76.]\n",
      " [ 0.  0.  0.  0.  0.  0.  0.  0.  0.  0.  0.  0.  0.  0.  0.  0.  0.  0.\n",
      "   0.  0.]]\n"
     ]
    },
    {
     "name": "stderr",
     "output_type": "stream",
     "text": [
      "C:\\Users\\Gorilla Rig\\Anaconda3\\lib\\site-packages\\scipy\\sparse\\linalg\\dsolve\\linsolve.py:295: SparseEfficiencyWarning: splu requires CSC matrix format\n",
      "  warn('splu requires CSC matrix format', SparseEfficiencyWarning)\n",
      "C:\\Users\\Gorilla Rig\\Anaconda3\\lib\\site-packages\\scipy\\sparse\\linalg\\dsolve\\linsolve.py:202: SparseEfficiencyWarning: spsolve is more efficient when sparse b is in the CSC matrix format\n",
      "  'is in the CSC matrix format', SparseEfficiencyWarning)\n",
      "C:\\Users\\Gorilla Rig\\Anaconda3\\lib\\site-packages\\scipy\\sparse\\compressed.py:742: SparseEfficiencyWarning: Changing the sparsity structure of a csr_matrix is expensive. lil_matrix is more efficient.\n",
      "  SparseEfficiencyWarning)\n"
     ]
    },
    {
     "name": "stdout",
     "output_type": "stream",
     "text": [
      "3.79 µs ± 339 ns per loop (mean ± std. dev. of 7 runs, 100000 loops each)\n"
     ]
    },
    {
     "name": "stderr",
     "output_type": "stream",
     "text": [
      "C:\\Users\\Gorilla Rig\\Anaconda3\\lib\\site-packages\\scipy\\sparse\\linalg\\dsolve\\linsolve.py:295: SparseEfficiencyWarning: splu requires CSC matrix format\n",
      "  warn('splu requires CSC matrix format', SparseEfficiencyWarning)\n",
      "C:\\Users\\Gorilla Rig\\Anaconda3\\lib\\site-packages\\scipy\\sparse\\linalg\\dsolve\\linsolve.py:202: SparseEfficiencyWarning: spsolve is more efficient when sparse b is in the CSC matrix format\n",
      "  'is in the CSC matrix format', SparseEfficiencyWarning)\n",
      "C:\\Users\\Gorilla Rig\\Anaconda3\\lib\\site-packages\\scipy\\sparse\\compressed.py:742: SparseEfficiencyWarning: Changing the sparsity structure of a csr_matrix is expensive. lil_matrix is more efficient.\n",
      "  SparseEfficiencyWarning)\n"
     ]
    },
    {
     "name": "stdout",
     "output_type": "stream",
     "text": [
      "3.66 µs ± 96.8 ns per loop (mean ± std. dev. of 7 runs, 100000 loops each)\n"
     ]
    },
    {
     "name": "stderr",
     "output_type": "stream",
     "text": [
      "C:\\Users\\Gorilla Rig\\Anaconda3\\lib\\site-packages\\scipy\\sparse\\linalg\\dsolve\\linsolve.py:295: SparseEfficiencyWarning: splu requires CSC matrix format\n",
      "  warn('splu requires CSC matrix format', SparseEfficiencyWarning)\n",
      "C:\\Users\\Gorilla Rig\\Anaconda3\\lib\\site-packages\\scipy\\sparse\\linalg\\dsolve\\linsolve.py:202: SparseEfficiencyWarning: spsolve is more efficient when sparse b is in the CSC matrix format\n",
      "  'is in the CSC matrix format', SparseEfficiencyWarning)\n",
      "C:\\Users\\Gorilla Rig\\Anaconda3\\lib\\site-packages\\scipy\\sparse\\compressed.py:742: SparseEfficiencyWarning: Changing the sparsity structure of a csr_matrix is expensive. lil_matrix is more efficient.\n",
      "  SparseEfficiencyWarning)\n"
     ]
    },
    {
     "name": "stdout",
     "output_type": "stream",
     "text": [
      "3.66 µs ± 76.2 ns per loop (mean ± std. dev. of 7 runs, 100000 loops each)\n"
     ]
    },
    {
     "name": "stderr",
     "output_type": "stream",
     "text": [
      "C:\\Users\\Gorilla Rig\\Anaconda3\\lib\\site-packages\\scipy\\sparse\\linalg\\dsolve\\linsolve.py:295: SparseEfficiencyWarning: splu requires CSC matrix format\n",
      "  warn('splu requires CSC matrix format', SparseEfficiencyWarning)\n",
      "C:\\Users\\Gorilla Rig\\Anaconda3\\lib\\site-packages\\scipy\\sparse\\linalg\\dsolve\\linsolve.py:202: SparseEfficiencyWarning: spsolve is more efficient when sparse b is in the CSC matrix format\n",
      "  'is in the CSC matrix format', SparseEfficiencyWarning)\n",
      "C:\\Users\\Gorilla Rig\\Anaconda3\\lib\\site-packages\\scipy\\sparse\\compressed.py:742: SparseEfficiencyWarning: Changing the sparsity structure of a csr_matrix is expensive. lil_matrix is more efficient.\n",
      "  SparseEfficiencyWarning)\n"
     ]
    },
    {
     "name": "stdout",
     "output_type": "stream",
     "text": [
      "3.66 µs ± 126 ns per loop (mean ± std. dev. of 7 runs, 100000 loops each)\n",
      "12.4 s ± 350 ms per loop (mean ± std. dev. of 7 runs, 1 loop each)\n"
     ]
    },
    {
     "name": "stderr",
     "output_type": "stream",
     "text": [
      "C:\\Users\\Gorilla Rig\\Anaconda3\\lib\\site-packages\\scipy\\sparse\\linalg\\dsolve\\linsolve.py:295: SparseEfficiencyWarning: splu requires CSC matrix format\n",
      "  warn('splu requires CSC matrix format', SparseEfficiencyWarning)\n",
      "C:\\Users\\Gorilla Rig\\Anaconda3\\lib\\site-packages\\scipy\\sparse\\linalg\\dsolve\\linsolve.py:202: SparseEfficiencyWarning: spsolve is more efficient when sparse b is in the CSC matrix format\n",
      "  'is in the CSC matrix format', SparseEfficiencyWarning)\n"
     ]
    }
   ],
   "source": [
    "#matched with the MATLAB code output\n",
    "%matplotlib inline\n",
    "import scipy.integrate as integrate\n",
    "import scipy as sp\n",
    "import scipy.stats as sps\n",
    "import numpy as np\n",
    "import numpy.polynomial.chebyshev as ch\n",
    "from numpy.linalg import inv\n",
    "from scipy.linalg import expm\n",
    "import matplotlib.pyplot as plt\n",
    "import numpy.polynomial.chebyshev as ch\n",
    "from pytwalk import * \n",
    "from scipy.sparse import lil_matrix\n",
    "\n",
    "class Tree:\n",
    "    def __init__(self,structure_pc, structure_cp, time):\n",
    "        self.structure_pc = structure_pc \n",
    "        self.structure_cp = structure_cp\n",
    "        self.time = time\n",
    "        \n",
    "def x_times_Tx(N): #Transpose of Operator B defined as x*f(x) (Gordon's thesis Propositon.5 page. 78)\n",
    "    B = sp.sparse.diags([0.25, 0.5, 0.25], [-1, 0, 1], shape=(N, N)).toarray()\n",
    "    B[1,0] = 0.5\n",
    "    return B\n",
    "\n",
    "def Chebychev_transform2(n,m,N):\n",
    "    x = np.linspace(0,1,n)\n",
    "    f = sps.binom.pmf(m, n, x, loc=0)\n",
    "    #specify Chebychev bases\n",
    "    chebexp_shift = ch.Chebyshev.fit(x,f,N,domain=[0,1])\n",
    "    return chebexp_shift.coef\n",
    "\n",
    "def Dd(N): #Derivative operator\n",
    "    N = N - 4\n",
    "    D = np.zeros([N+4,N+4])\n",
    "    D[0,np.arange(1,N+4,2)] = 2*np.arange(1,N+4,2)\n",
    "    for i in range(0,N+2):\n",
    "        D[i+1,np.arange(i+2,N+4,2)] = 4*(np.arange(i+1,N+3,2)+1)\n",
    "    return D\n",
    "\n",
    "def Tree_integrator(T,C,N,n_sample,CC,a,b): #will have to add beta distribution variables\n",
    "    nnodes = np.shape(T.structure_cp)[0] + 1 #have to get this from the tree\n",
    "    n = (nnodes+1.)/2.\n",
    "    F = np.zeros([N,nnodes])\n",
    "    logL = 0\n",
    "    \n",
    "    #4.5 Proposition 5 Operator B\n",
    "    S = x_times_Tx(N)\n",
    "    S2 = np.dot(S,S)\n",
    "    S3 = np.dot(S2,S)\n",
    "    #Have to figure this out   \n",
    "    \n",
    "    D = Dd(N)\n",
    "    print(D)\n",
    "    D2 = np.dot(D,D)\n",
    "    \n",
    "    M = (a[0,0]*D) + (a[0,1]*np.dot(S,D)) + (a[0,2]*np.dot(S2,D)) + (a[0,3]*np.dot(S3,D)) + .5*((b[0]*D2) + (b[1]*np.dot(S,D2)) + (b[2]*np.dot(S2,D2))) \n",
    "    Msparse = lil_matrix(M)\n",
    "    \n",
    "#---step1-a---    \n",
    "    j=0\n",
    "    for i in range(0,int(n)): \n",
    "        tt = T.time[i] #branch length\n",
    "        #these points have to be consistent with the number of points\n",
    "        cc = CC[i,:]   \n",
    "        j += 1\n",
    "        p = np.arange(0,1+1/100,1/100)\n",
    "#plotty mcplotface\n",
    "        #chebpts = ch.chebval(2*p-1,  cc)\n",
    "        #plt.title(\"Initial distribution \" +str(i))\n",
    "        #plt.plot(p,chebpts)\n",
    "        #plt.show()\n",
    "#---step1-b,c---\n",
    "        Msparse_e = (expm(Msparse*tt))\n",
    "        %timeit Msparse_e.dot(cc[:-1])\n",
    "        F[:,i] = Msparse_e.dot(cc[:-1])\n",
    "        \n",
    "#plotty mcplotface\n",
    "        #p = np.arange(0,1+1/100,1/100)\n",
    "        #chebpts = ch.chebval(2*p-1,  F[:,i])\n",
    "        #plt.plot(p,chebpts)\n",
    "        #print(i,tt,np.sum(F[:,i]))\n",
    "#---step2---  \n",
    "    #Adhoc for now, have do it properly\n",
    "    M = (a[1,0]*D) + (a[1,1]*np.dot(S,D)) + (a[1,2]*np.dot(S2,D)) + (a[1,3]*np.dot(S3,D)) + .5*((b[0]*D2) + (b[1]*np.dot(S,D2)) + (b[2]*np.dot(S2,D2))) \n",
    "    Msparse = lil_matrix(M)\n",
    "    for i in range(int(n),nnodes-1):\n",
    "#---step2-a,b,c---\n",
    "        u = T.structure_pc[i - int(n),0]\n",
    "        v = T.structure_pc[i - int(n),1]\n",
    "        F1 = F[:,u-1]\n",
    "        F2 = F[:,v-1]\n",
    "        #print(u,np.sum(F1),v,np.sum(F2))\n",
    "        tt = T.time[i]\n",
    "#---step2d---\n",
    "#   4.3.3  Proposition 1\n",
    "        F1chebpts = ch.chebval(2*p-1,  F1)\n",
    "        F2chebpts = ch.chebval(2*p-1,  F2)\n",
    "#plotty mcplotface        \n",
    "        #plt.plot(p,F1chebpts)\n",
    "        #plt.plot(p,F2chebpts)\n",
    "        #plt.plot(p,F1chebpts*F2chebpts)\n",
    "        #plt.show()\n",
    "        \n",
    "        Ffit = ch.Chebyshev.fit(p,F1chebpts*F2chebpts,N,domain=[0,1])\n",
    "        cc = Ffit.coef    \n",
    "        \n",
    "#---step2-e,f---\n",
    "       \n",
    "        Msparse_e = (expm(Msparse*tt))\n",
    "        F[:,i] = Msparse_e.dot(cc[:-1])\n",
    "        #chebpts = ch.chebval(2*p-1,  F[:,i])\n",
    "        #plt.plot(p,chebpts)\n",
    "        #plt.show()\n",
    "#---step3---\n",
    "    \n",
    "    r = nnodes - 1\n",
    "    u = T.structure_pc[r - int(n),0]\n",
    "    v = T.structure_pc[r - int(n),1]\n",
    "#---step4,5---\n",
    "    F1 = F[:,u-1]\n",
    "    F2 = F[:,v-1]\n",
    "    #print(u,np.sum(F1),v,np.sum(F2))\n",
    "#---step6---\n",
    "\n",
    "#---step7--- mush stationary distribution together\n",
    "    #F1chebpts = ch.chebval(2*p-1,  F1)\n",
    "    #F2chebpts = ch.chebval(2*p-1,  F2)\n",
    "    #stationary = sps.beta.pdf(p,2*a[0],-2*(a[1]+a[0]))\n",
    "#plotty mcplot face    \n",
    "    #plt.plot(p,F1chebpts)\n",
    "    #plt.show()\n",
    "    #plt.plot(p,F2chebpts)\n",
    "    #plt.show()\n",
    "    #plt.plot(p,stationary)\n",
    "    #plt.show()\n",
    "    \n",
    "    f = lambda p: ch.chebval(2*p-1, F1)*ch.chebval(2*p-1, F2)*sps.beta.pdf(p,0.006,0.006)\n",
    "    result = integrate.quad(f, 0, 1)\n",
    "#---step7---\n",
    "    \n",
    "    like = result[0]\n",
    "    #print(like)\n",
    "    if 1>=like>=0:\n",
    "        logL = np.log(like)\n",
    "    else:\n",
    "        logL = -10000\n",
    "    \n",
    "    return -logL\n",
    "\n",
    "#Tree structure, this should come from a .nex file\n",
    "N = 20\n",
    "n_sample = 100\n",
    "T = Tree(np.array([[1,2],[3,4],[5,6]]),np.array([5,5,6,7,6,7]),np.array([0.1,0.1,0.1,0.1,0.1,0.1]))\n",
    "#T = Tree(np.array([[1,2]]),np.array([3,3]),np.array([0.1,1]))\n",
    "#Given frequency\n",
    "C = np.array([60,70, 65,50])\n",
    "\n",
    "#Get Chebychev Coefficients of initial condition\n",
    "CC = np.zeros([len(C),N+1])\n",
    "for i in range(0,len(C)):\n",
    "    CC[i] = Chebychev_transform2(n_sample,C[i],N)  \n",
    "    \n",
    "#C = np.array([31,100])\n",
    "#selection and mutation    \n",
    "a = np.array([[.5,-1,0,0],[.4,-0.5,0,0]])\n",
    "#genetic drift\n",
    "b = np.array([0,0.5,-0.5,0])\n",
    "%timeit Tree_integrator(T,C,N,n_sample,CC,a,b)"
   ]
  },
  {
   "cell_type": "code",
   "execution_count": 17,
   "metadata": {},
   "outputs": [
    {
     "name": "stdout",
     "output_type": "stream",
     "text": [
      "16000.0\n"
     ]
    }
   ],
   "source": [
    "#Get Generational time from SNAPP parameters\n",
    "print(0.024/(0.006/(4*1000)))"
   ]
  },
  {
   "cell_type": "code",
   "execution_count": 11,
   "metadata": {},
   "outputs": [
    {
     "name": "stdout",
     "output_type": "stream",
     "text": [
      "[1.99283616 1.92848371 1.9887076  1.99453228 1.86489979 1.98502936]\n"
     ]
    }
   ],
   "source": [
    "print(Tree_Inference.x)"
   ]
  },
  {
   "cell_type": "code",
   "execution_count": 3,
   "metadata": {},
   "outputs": [
    {
     "name": "stdout",
     "output_type": "stream",
     "text": [
      "Help on method fit in module numpy.polynomial._polybase:\n",
      "\n",
      "fit(x, y, deg, domain=None, rcond=None, full=False, w=None, window=None) method of builtins.type instance\n",
      "    Least squares fit to data.\n",
      "    \n",
      "    Return a series instance that is the least squares fit to the data\n",
      "    `y` sampled at `x`. The domain of the returned instance can be\n",
      "    specified and this will often result in a superior fit with less\n",
      "    chance of ill conditioning.\n",
      "    \n",
      "    Parameters\n",
      "    ----------\n",
      "    x : array_like, shape (M,)\n",
      "        x-coordinates of the M sample points ``(x[i], y[i])``.\n",
      "    y : array_like, shape (M,) or (M, K)\n",
      "        y-coordinates of the sample points. Several data sets of sample\n",
      "        points sharing the same x-coordinates can be fitted at once by\n",
      "        passing in a 2D-array that contains one dataset per column.\n",
      "    deg : int or 1-D array_like\n",
      "        Degree(s) of the fitting polynomials. If `deg` is a single integer\n",
      "        all terms up to and including the `deg`'th term are included in the\n",
      "        fit. For NumPy versions >= 1.11.0 a list of integers specifying the\n",
      "        degrees of the terms to include may be used instead.\n",
      "    domain : {None, [beg, end], []}, optional\n",
      "        Domain to use for the returned series. If ``None``,\n",
      "        then a minimal domain that covers the points `x` is chosen.  If\n",
      "        ``[]`` the class domain is used. The default value was the\n",
      "        class domain in NumPy 1.4 and ``None`` in later versions.\n",
      "        The ``[]`` option was added in numpy 1.5.0.\n",
      "    rcond : float, optional\n",
      "        Relative condition number of the fit. Singular values smaller\n",
      "        than this relative to the largest singular value will be\n",
      "        ignored. The default value is len(x)*eps, where eps is the\n",
      "        relative precision of the float type, about 2e-16 in most\n",
      "        cases.\n",
      "    full : bool, optional\n",
      "        Switch determining nature of return value. When it is False\n",
      "        (the default) just the coefficients are returned, when True\n",
      "        diagnostic information from the singular value decomposition is\n",
      "        also returned.\n",
      "    w : array_like, shape (M,), optional\n",
      "        Weights. If not None the contribution of each point\n",
      "        ``(x[i],y[i])`` to the fit is weighted by `w[i]`. Ideally the\n",
      "        weights are chosen so that the errors of the products\n",
      "        ``w[i]*y[i]`` all have the same variance.  The default value is\n",
      "        None.\n",
      "    \n",
      "        .. versionadded:: 1.5.0\n",
      "    window : {[beg, end]}, optional\n",
      "        Window to use for the returned series. The default\n",
      "        value is the default class domain\n",
      "    \n",
      "        .. versionadded:: 1.6.0\n",
      "    \n",
      "    Returns\n",
      "    -------\n",
      "    new_series : series\n",
      "        A series that represents the least squares fit to the data and\n",
      "        has the domain specified in the call.\n",
      "    \n",
      "    [resid, rank, sv, rcond] : list\n",
      "        These values are only returned if `full` = True\n",
      "    \n",
      "        resid -- sum of squared residuals of the least squares fit\n",
      "        rank -- the numerical rank of the scaled Vandermonde matrix\n",
      "        sv -- singular values of the scaled Vandermonde matrix\n",
      "        rcond -- value of `rcond`.\n",
      "    \n",
      "        For more details, see `linalg.lstsq`.\n",
      "\n"
     ]
    }
   ],
   "source": [
    "help(ch.Chebyshev.fit)"
   ]
  },
  {
   "cell_type": "code",
   "execution_count": 21,
   "metadata": {},
   "outputs": [
    {
     "name": "stdout",
     "output_type": "stream",
     "text": [
      "  (0, 0)\t4\n",
      "  (3, 3)\t5\n",
      "  (1, 1)\t7\n",
      "  (0, 2)\t9\n"
     ]
    }
   ],
   "source": [
    "from scipy import sparse\n",
    "from numpy import array\n",
    "I = array([0,3,1,0])\n",
    "J = array([0,3,1,2])\n",
    "V = array([4,5,7,9])\n",
    "A = sparse.coo_matrix((V,(I,J)),shape=(4,4))\n",
    "print(A)"
   ]
  },
  {
   "cell_type": "code",
   "execution_count": 19,
   "metadata": {},
   "outputs": [
    {
     "name": "stdout",
     "output_type": "stream",
     "text": [
      "  (0, 0)\t3\n",
      "  (0, 2)\t1\n",
      "  (1, 1)\t2\n",
      "  (3, 3)\t1\n"
     ]
    }
   ],
   "source": [
    "I = array([0,0,1,3,1,0,0])\n",
    "J = array([0,2,1,3,1,0,0])\n",
    "V = array([1,1,1,1,1,1,1])\n",
    "B = sparse.coo_matrix((V,(I,J)),shape=(4,4)).tocsr()\n",
    "print(B)"
   ]
  },
  {
   "cell_type": "code",
   "execution_count": null,
   "metadata": {},
   "outputs": [],
   "source": []
  }
 ],
 "metadata": {
  "kernelspec": {
   "display_name": "Python 3",
   "language": "python",
   "name": "python3"
  },
  "language_info": {
   "codemirror_mode": {
    "name": "ipython",
    "version": 3
   },
   "file_extension": ".py",
   "mimetype": "text/x-python",
   "name": "python",
   "nbconvert_exporter": "python",
   "pygments_lexer": "ipython3",
   "version": "3.6.4"
  }
 },
 "nbformat": 4,
 "nbformat_minor": 2
}
